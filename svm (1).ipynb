{
  "cells": [
    {
      "cell_type": "code",
      "execution_count": null,
      "id": "056fca6e",
      "metadata": {
        "id": "056fca6e",
        "outputId": "2c0b1ba9-864d-43d2-ba66-ffcc8fc8e873"
      },
      "outputs": [
        {
          "name": "stdout",
          "output_type": "stream",
          "text": [
            "w=  [[ 0.25 -0.25]]\n",
            "b=  [-0.75]\n",
            "Indices of support vectors=  [2 3]\n",
            "Support vectors=  [[ 2.  3.]\n",
            " [ 6. -1.]]\n",
            "No. of support vectors from each class=  [1 1]\n",
            "coefficient of support vectors in decision function=  [[0.0625 0.0625]]\n"
          ]
        }
      ],
      "source": [
        "from sklearn.svm import SVC\n",
        "from sklearn import svm\n",
        "import numpy as np\n",
        "\n",
        "X=np.array([[3,4],[1,4],[2,3],[6,-1],[7,-1],[5,-3]])\n",
        "y=np.array([-1,-1,-1,1,1,1])\n",
        "\n",
        "l=SVC(C=1e5,kernel='linear')\n",
        "l.fit(X,y)\n",
        "\n",
        "print('w= ',l.coef_)\n",
        "print('b= ',l.intercept_)\n",
        "print('Indices of support vectors= ',l.support_)\n",
        "print('Support vectors= ',l.support_vectors_)\n",
        "print('No. of support vectors from each class= ',l.n_support_)\n",
        "print('coefficient of support vectors in decision function= ',np.abs(l.dual_coef_))\n"
      ]
    },
    {
      "cell_type": "code",
      "execution_count": null,
      "id": "39683897",
      "metadata": {
        "id": "39683897",
        "outputId": "f733cd54-4b2e-4def-8cb5-fb8acda79623"
      },
      "outputs": [
        {
          "data": {
            "text/html": [
              "<div>\n",
              "<style scoped>\n",
              "    .dataframe tbody tr th:only-of-type {\n",
              "        vertical-align: middle;\n",
              "    }\n",
              "\n",
              "    .dataframe tbody tr th {\n",
              "        vertical-align: top;\n",
              "    }\n",
              "\n",
              "    .dataframe thead th {\n",
              "        text-align: right;\n",
              "    }\n",
              "</style>\n",
              "<table border=\"1\" class=\"dataframe\">\n",
              "  <thead>\n",
              "    <tr style=\"text-align: right;\">\n",
              "      <th></th>\n",
              "      <th>Id</th>\n",
              "      <th>RI</th>\n",
              "      <th>Na</th>\n",
              "      <th>Mg</th>\n",
              "      <th>Al</th>\n",
              "      <th>Si</th>\n",
              "      <th>K</th>\n",
              "      <th>Ca</th>\n",
              "      <th>Ba</th>\n",
              "      <th>Fe</th>\n",
              "      <th>Type</th>\n",
              "    </tr>\n",
              "  </thead>\n",
              "  <tbody>\n",
              "    <tr>\n",
              "      <th>0</th>\n",
              "      <td>1</td>\n",
              "      <td>1.52101</td>\n",
              "      <td>13.64</td>\n",
              "      <td>4.49</td>\n",
              "      <td>1.10</td>\n",
              "      <td>71.78</td>\n",
              "      <td>0.06</td>\n",
              "      <td>8.75</td>\n",
              "      <td>0.0</td>\n",
              "      <td>0.0</td>\n",
              "      <td>1</td>\n",
              "    </tr>\n",
              "    <tr>\n",
              "      <th>1</th>\n",
              "      <td>2</td>\n",
              "      <td>1.51761</td>\n",
              "      <td>13.89</td>\n",
              "      <td>3.60</td>\n",
              "      <td>1.36</td>\n",
              "      <td>72.73</td>\n",
              "      <td>0.48</td>\n",
              "      <td>7.83</td>\n",
              "      <td>0.0</td>\n",
              "      <td>0.0</td>\n",
              "      <td>1</td>\n",
              "    </tr>\n",
              "    <tr>\n",
              "      <th>2</th>\n",
              "      <td>3</td>\n",
              "      <td>1.51618</td>\n",
              "      <td>13.53</td>\n",
              "      <td>3.55</td>\n",
              "      <td>1.54</td>\n",
              "      <td>72.99</td>\n",
              "      <td>0.39</td>\n",
              "      <td>7.78</td>\n",
              "      <td>0.0</td>\n",
              "      <td>0.0</td>\n",
              "      <td>1</td>\n",
              "    </tr>\n",
              "    <tr>\n",
              "      <th>3</th>\n",
              "      <td>4</td>\n",
              "      <td>1.51766</td>\n",
              "      <td>13.21</td>\n",
              "      <td>3.69</td>\n",
              "      <td>1.29</td>\n",
              "      <td>72.61</td>\n",
              "      <td>0.57</td>\n",
              "      <td>8.22</td>\n",
              "      <td>0.0</td>\n",
              "      <td>0.0</td>\n",
              "      <td>1</td>\n",
              "    </tr>\n",
              "    <tr>\n",
              "      <th>4</th>\n",
              "      <td>5</td>\n",
              "      <td>1.51742</td>\n",
              "      <td>13.27</td>\n",
              "      <td>3.62</td>\n",
              "      <td>1.24</td>\n",
              "      <td>73.08</td>\n",
              "      <td>0.55</td>\n",
              "      <td>8.07</td>\n",
              "      <td>0.0</td>\n",
              "      <td>0.0</td>\n",
              "      <td>1</td>\n",
              "    </tr>\n",
              "  </tbody>\n",
              "</table>\n",
              "</div>"
            ],
            "text/plain": [
              "   Id       RI     Na    Mg    Al    Si      K    Ca   Ba   Fe  Type\n",
              "0   1  1.52101  13.64  4.49  1.10  71.78  0.06  8.75  0.0  0.0     1\n",
              "1   2  1.51761  13.89  3.60  1.36  72.73  0.48  7.83  0.0  0.0     1\n",
              "2   3  1.51618  13.53  3.55  1.54  72.99  0.39  7.78  0.0  0.0     1\n",
              "3   4  1.51766  13.21  3.69  1.29  72.61  0.57  8.22  0.0  0.0     1\n",
              "4   5  1.51742  13.27  3.62  1.24  73.08  0.55  8.07  0.0  0.0     1"
            ]
          },
          "execution_count": 2,
          "metadata": {},
          "output_type": "execute_result"
        }
      ],
      "source": [
        "import pandas as pd\n",
        "data=pd.read_csv('/home/ignis/Downloads/glass.csv')\n",
        "data.head()\n"
      ]
    },
    {
      "cell_type": "code",
      "execution_count": null,
      "id": "57bcfb07",
      "metadata": {
        "id": "57bcfb07",
        "outputId": "df2ca40b-5141-417e-f9bc-aa9db5a07c02"
      },
      "outputs": [
        {
          "name": "stdout",
          "output_type": "stream",
          "text": [
            "[[6.90000e+01 1.52152e+00 1.31200e+01 3.58000e+00 9.00000e-01 7.22000e+01\n",
            "  2.30000e-01 9.82000e+00 0.00000e+00 1.60000e-01]\n",
            " [1.46000e+02 1.51839e+00 1.28500e+01 3.67000e+00 1.24000e+00 7.25700e+01\n",
            "  6.20000e-01 8.68000e+00 0.00000e+00 3.50000e-01]\n",
            " [7.20000e+01 1.51848e+00 1.36400e+01 3.87000e+00 1.27000e+00 7.19600e+01\n",
            "  5.40000e-01 8.32000e+00 0.00000e+00 3.20000e-01]\n",
            " [7.10000e+01 1.51574e+00 1.48600e+01 3.67000e+00 1.74000e+00 7.18700e+01\n",
            "  1.60000e-01 7.36000e+00 0.00000e+00 1.20000e-01]\n",
            " [1.63000e+02 1.52211e+00 1.41900e+01 3.78000e+00 9.10000e-01 7.13600e+01\n",
            "  2.30000e-01 9.14000e+00 0.00000e+00 3.70000e-01]\n",
            " [1.47000e+02 1.51769e+00 1.36500e+01 3.66000e+00 1.11000e+00 7.27700e+01\n",
            "  1.10000e-01 8.60000e+00 0.00000e+00 0.00000e+00]\n",
            " [1.76000e+02 1.52119e+00 1.29700e+01 3.30000e-01 1.51000e+00 7.33900e+01\n",
            "  1.30000e-01 1.12700e+01 0.00000e+00 2.80000e-01]\n",
            " [1.65000e+02 1.51915e+00 1.27300e+01 1.85000e+00 1.86000e+00 7.26900e+01\n",
            "  6.00000e-01 1.00900e+01 0.00000e+00 0.00000e+00]\n",
            " [1.75000e+02 1.52058e+00 1.28500e+01 1.61000e+00 2.17000e+00 7.21800e+01\n",
            "  7.60000e-01 9.70000e+00 2.40000e-01 5.10000e-01]\n",
            " [1.84000e+02 1.51969e+00 1.45600e+01 0.00000e+00 5.60000e-01 7.34800e+01\n",
            "  0.00000e+00 1.12200e+01 0.00000e+00 0.00000e+00]\n",
            " [1.81000e+02 1.51299e+00 1.44000e+01 1.74000e+00 1.54000e+00 7.45500e+01\n",
            "  0.00000e+00 7.59000e+00 0.00000e+00 0.00000e+00]\n",
            " [1.77000e+02 1.51905e+00 1.40000e+01 2.39000e+00 1.56000e+00 7.23700e+01\n",
            "  0.00000e+00 9.57000e+00 0.00000e+00 0.00000e+00]\n",
            " [1.86000e+02 1.51131e+00 1.36900e+01 3.20000e+00 1.81000e+00 7.28100e+01\n",
            "  1.76000e+00 5.43000e+00 1.19000e+00 0.00000e+00]\n",
            " [1.88000e+02 1.52315e+00 1.34400e+01 3.34000e+00 1.23000e+00 7.23800e+01\n",
            "  6.00000e-01 8.83000e+00 0.00000e+00 0.00000e+00]]\n",
            "[1 3 2 3 3 2]\n"
          ]
        }
      ],
      "source": [
        "x=data.drop('Type',axis=1)\n",
        "y=data.Type\n",
        "\n",
        "from sklearn.model_selection import train_test_split\n",
        "x_train,x_test,y_train,y_test=train_test_split(x,y,test_size=0.3)\n",
        "\n",
        "linear=svm.SVC(kernel='linear')\n",
        "linear.fit(x_train,y_train)\n",
        "\n",
        "print(linear.support_vectors_)\n",
        "\n",
        "print(linear.n_support_)\n",
        "\n",
        "y_pred=linear.predict(x_test)\n"
      ]
    },
    {
      "cell_type": "code",
      "execution_count": null,
      "id": "56a5019c",
      "metadata": {
        "id": "56a5019c",
        "outputId": "b89d584e-04d8-472f-a23f-ad4f98a05804"
      },
      "outputs": [
        {
          "name": "stdout",
          "output_type": "stream",
          "text": [
            "0.9846153846153847\n",
            "[[18  0  0  0  0  0]\n",
            " [ 0 27  0  0  0  0]\n",
            " [ 0  0  4  0  0  0]\n",
            " [ 0  0  1  3  0  0]\n",
            " [ 0  0  0  0  2  0]\n",
            " [ 0  0  0  0  0 10]]\n",
            "              precision    recall  f1-score   support\n",
            "\n",
            "           1       1.00      1.00      1.00        18\n",
            "           2       1.00      1.00      1.00        27\n",
            "           3       0.80      1.00      0.89         4\n",
            "           5       1.00      0.75      0.86         4\n",
            "           6       1.00      1.00      1.00         2\n",
            "           7       1.00      1.00      1.00        10\n",
            "\n",
            "    accuracy                           0.98        65\n",
            "   macro avg       0.97      0.96      0.96        65\n",
            "weighted avg       0.99      0.98      0.98        65\n",
            "\n",
            "prediction by model1  0.27692307692307694\n",
            "prediction by model2 0.9692307692307692\n",
            "prediction by model3 0.27692307692307694\n"
          ]
        }
      ],
      "source": [
        "from sklearn.metrics import accuracy_score\n",
        "print(accuracy_score(y_test,y_pred))\n",
        "\n",
        "from sklearn.metrics import confusion_matrix\n",
        "print(confusion_matrix(y_test,y_pred))\n",
        "\n",
        "from sklearn.metrics import classification_report\n",
        "print(classification_report(y_test,y_pred))\n",
        "\n",
        "model1=SVC(kernel='sigmoid',gamma=0.001)\n",
        "model2=SVC(kernel='poly',degree=3)\n",
        "model3=SVC(kernel='rbf')\n",
        "\n",
        "model1.fit(x_train,y_train)\n",
        "model2.fit(x_train,y_train)\n",
        "model3.fit(x_train,y_train)\n",
        "\n",
        "y_pred1=model1.predict(x_test)\n",
        "y_pred2=model2.predict(x_test)\n",
        "y_pred3=model3.predict(x_test)\n",
        "\n",
        "print(\"prediction by model1 \",accuracy_score(y_test,y_pred1))\n",
        "print(\"prediction by model2\",accuracy_score(y_test,y_pred2))\n",
        "print(\"prediction by model3\",accuracy_score(y_test,y_pred1))"
      ]
    },
    {
      "cell_type": "code",
      "execution_count": null,
      "id": "c882f96a",
      "metadata": {
        "id": "c882f96a"
      },
      "outputs": [],
      "source": []
    }
  ],
  "metadata": {
    "kernelspec": {
      "display_name": "Python 3 (ipykernel)",
      "language": "python",
      "name": "python3"
    },
    "language_info": {
      "codemirror_mode": {
        "name": "ipython",
        "version": 3
      },
      "file_extension": ".py",
      "mimetype": "text/x-python",
      "name": "python",
      "nbconvert_exporter": "python",
      "pygments_lexer": "ipython3",
      "version": "3.7.11"
    },
    "vscode": {
      "interpreter": {
        "hash": "916dbcbb3f70747c44a77c7bcd40155683ae19c65e1c03b4aa3499c5328201f1"
      }
    },
    "colab": {
      "provenance": []
    }
  },
  "nbformat": 4,
  "nbformat_minor": 5
}