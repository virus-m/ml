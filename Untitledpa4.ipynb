{
  "nbformat": 4,
  "nbformat_minor": 0,
  "metadata": {
    "colab": {
      "provenance": []
    },
    "kernelspec": {
      "name": "python3",
      "display_name": "Python 3"
    },
    "language_info": {
      "name": "python"
    }
  },
  "cells": [
    {
      "cell_type": "code",
      "execution_count": null,
      "metadata": {
        "id": "qq-sFozsDlp2"
      },
      "outputs": [],
      "source": [
        "import pandas as pd\n",
        "import matplotlib.pyplot as plt\n",
        "import statistics"
      ]
    },
    {
      "cell_type": "code",
      "source": [
        "df = pd.read_csv(\"/content/Food-Truck-LineReg.csv\")\n",
        "df"
      ],
      "metadata": {
        "id": "r4pmD11QDsZL",
        "colab": {
          "base_uri": "https://localhost:8080/",
          "height": 424
        },
        "outputId": "5560e4c3-2057-4ec1-f267-ffcd180f7adb"
      },
      "execution_count": null,
      "outputs": [
        {
          "output_type": "execute_result",
          "data": {
            "text/plain": [
              "     xlabel    ylabel\n",
              "0    6.1101  17.59200\n",
              "1    5.5277   9.13020\n",
              "2    8.5186  13.66200\n",
              "3    7.0032  11.85400\n",
              "4    5.8598   6.82330\n",
              "..      ...       ...\n",
              "92   5.8707   7.20290\n",
              "93   5.3054   1.98690\n",
              "94   8.2934   0.14454\n",
              "95  13.3940   9.05510\n",
              "96   5.4369   0.61705\n",
              "\n",
              "[97 rows x 2 columns]"
            ],
            "text/html": [
              "\n",
              "  <div id=\"df-0da6c5af-696e-49c8-a2fe-f5f9d1e0bc51\">\n",
              "    <div class=\"colab-df-container\">\n",
              "      <div>\n",
              "<style scoped>\n",
              "    .dataframe tbody tr th:only-of-type {\n",
              "        vertical-align: middle;\n",
              "    }\n",
              "\n",
              "    .dataframe tbody tr th {\n",
              "        vertical-align: top;\n",
              "    }\n",
              "\n",
              "    .dataframe thead th {\n",
              "        text-align: right;\n",
              "    }\n",
              "</style>\n",
              "<table border=\"1\" class=\"dataframe\">\n",
              "  <thead>\n",
              "    <tr style=\"text-align: right;\">\n",
              "      <th></th>\n",
              "      <th>xlabel</th>\n",
              "      <th>ylabel</th>\n",
              "    </tr>\n",
              "  </thead>\n",
              "  <tbody>\n",
              "    <tr>\n",
              "      <th>0</th>\n",
              "      <td>6.1101</td>\n",
              "      <td>17.59200</td>\n",
              "    </tr>\n",
              "    <tr>\n",
              "      <th>1</th>\n",
              "      <td>5.5277</td>\n",
              "      <td>9.13020</td>\n",
              "    </tr>\n",
              "    <tr>\n",
              "      <th>2</th>\n",
              "      <td>8.5186</td>\n",
              "      <td>13.66200</td>\n",
              "    </tr>\n",
              "    <tr>\n",
              "      <th>3</th>\n",
              "      <td>7.0032</td>\n",
              "      <td>11.85400</td>\n",
              "    </tr>\n",
              "    <tr>\n",
              "      <th>4</th>\n",
              "      <td>5.8598</td>\n",
              "      <td>6.82330</td>\n",
              "    </tr>\n",
              "    <tr>\n",
              "      <th>...</th>\n",
              "      <td>...</td>\n",
              "      <td>...</td>\n",
              "    </tr>\n",
              "    <tr>\n",
              "      <th>92</th>\n",
              "      <td>5.8707</td>\n",
              "      <td>7.20290</td>\n",
              "    </tr>\n",
              "    <tr>\n",
              "      <th>93</th>\n",
              "      <td>5.3054</td>\n",
              "      <td>1.98690</td>\n",
              "    </tr>\n",
              "    <tr>\n",
              "      <th>94</th>\n",
              "      <td>8.2934</td>\n",
              "      <td>0.14454</td>\n",
              "    </tr>\n",
              "    <tr>\n",
              "      <th>95</th>\n",
              "      <td>13.3940</td>\n",
              "      <td>9.05510</td>\n",
              "    </tr>\n",
              "    <tr>\n",
              "      <th>96</th>\n",
              "      <td>5.4369</td>\n",
              "      <td>0.61705</td>\n",
              "    </tr>\n",
              "  </tbody>\n",
              "</table>\n",
              "<p>97 rows × 2 columns</p>\n",
              "</div>\n",
              "      <button class=\"colab-df-convert\" onclick=\"convertToInteractive('df-0da6c5af-696e-49c8-a2fe-f5f9d1e0bc51')\"\n",
              "              title=\"Convert this dataframe to an interactive table.\"\n",
              "              style=\"display:none;\">\n",
              "        \n",
              "  <svg xmlns=\"http://www.w3.org/2000/svg\" height=\"24px\"viewBox=\"0 0 24 24\"\n",
              "       width=\"24px\">\n",
              "    <path d=\"M0 0h24v24H0V0z\" fill=\"none\"/>\n",
              "    <path d=\"M18.56 5.44l.94 2.06.94-2.06 2.06-.94-2.06-.94-.94-2.06-.94 2.06-2.06.94zm-11 1L8.5 8.5l.94-2.06 2.06-.94-2.06-.94L8.5 2.5l-.94 2.06-2.06.94zm10 10l.94 2.06.94-2.06 2.06-.94-2.06-.94-.94-2.06-.94 2.06-2.06.94z\"/><path d=\"M17.41 7.96l-1.37-1.37c-.4-.4-.92-.59-1.43-.59-.52 0-1.04.2-1.43.59L10.3 9.45l-7.72 7.72c-.78.78-.78 2.05 0 2.83L4 21.41c.39.39.9.59 1.41.59.51 0 1.02-.2 1.41-.59l7.78-7.78 2.81-2.81c.8-.78.8-2.07 0-2.86zM5.41 20L4 18.59l7.72-7.72 1.47 1.35L5.41 20z\"/>\n",
              "  </svg>\n",
              "      </button>\n",
              "      \n",
              "  <style>\n",
              "    .colab-df-container {\n",
              "      display:flex;\n",
              "      flex-wrap:wrap;\n",
              "      gap: 12px;\n",
              "    }\n",
              "\n",
              "    .colab-df-convert {\n",
              "      background-color: #E8F0FE;\n",
              "      border: none;\n",
              "      border-radius: 50%;\n",
              "      cursor: pointer;\n",
              "      display: none;\n",
              "      fill: #1967D2;\n",
              "      height: 32px;\n",
              "      padding: 0 0 0 0;\n",
              "      width: 32px;\n",
              "    }\n",
              "\n",
              "    .colab-df-convert:hover {\n",
              "      background-color: #E2EBFA;\n",
              "      box-shadow: 0px 1px 2px rgba(60, 64, 67, 0.3), 0px 1px 3px 1px rgba(60, 64, 67, 0.15);\n",
              "      fill: #174EA6;\n",
              "    }\n",
              "\n",
              "    [theme=dark] .colab-df-convert {\n",
              "      background-color: #3B4455;\n",
              "      fill: #D2E3FC;\n",
              "    }\n",
              "\n",
              "    [theme=dark] .colab-df-convert:hover {\n",
              "      background-color: #434B5C;\n",
              "      box-shadow: 0px 1px 3px 1px rgba(0, 0, 0, 0.15);\n",
              "      filter: drop-shadow(0px 1px 2px rgba(0, 0, 0, 0.3));\n",
              "      fill: #FFFFFF;\n",
              "    }\n",
              "  </style>\n",
              "\n",
              "      <script>\n",
              "        const buttonEl =\n",
              "          document.querySelector('#df-0da6c5af-696e-49c8-a2fe-f5f9d1e0bc51 button.colab-df-convert');\n",
              "        buttonEl.style.display =\n",
              "          google.colab.kernel.accessAllowed ? 'block' : 'none';\n",
              "\n",
              "        async function convertToInteractive(key) {\n",
              "          const element = document.querySelector('#df-0da6c5af-696e-49c8-a2fe-f5f9d1e0bc51');\n",
              "          const dataTable =\n",
              "            await google.colab.kernel.invokeFunction('convertToInteractive',\n",
              "                                                     [key], {});\n",
              "          if (!dataTable) return;\n",
              "\n",
              "          const docLinkHtml = 'Like what you see? Visit the ' +\n",
              "            '<a target=\"_blank\" href=https://colab.research.google.com/notebooks/data_table.ipynb>data table notebook</a>'\n",
              "            + ' to learn more about interactive tables.';\n",
              "          element.innerHTML = '';\n",
              "          dataTable['output_type'] = 'display_data';\n",
              "          await google.colab.output.renderOutput(dataTable, element);\n",
              "          const docLink = document.createElement('div');\n",
              "          docLink.innerHTML = docLinkHtml;\n",
              "          element.appendChild(docLink);\n",
              "        }\n",
              "      </script>\n",
              "    </div>\n",
              "  </div>\n",
              "  "
            ]
          },
          "metadata": {},
          "execution_count": 3
        }
      ]
    },
    {
      "cell_type": "code",
      "source": [
        "df.plot(x=\"xlabel\", y=\"ylabel\", style=\"o\")\n",
        "plt.show()"
      ],
      "metadata": {
        "id": "dC9V8h4zDtoq",
        "colab": {
          "base_uri": "https://localhost:8080/",
          "height": 280
        },
        "outputId": "8e821ef1-df29-4401-b153-8b4104d9f7a3"
      },
      "execution_count": null,
      "outputs": [
        {
          "output_type": "display_data",
          "data": {
            "text/plain": [
              "<Figure size 432x288 with 1 Axes>"
            ],
            "image/png": "[encoded data removed]"
          },
          "metadata": {
            "needs_background": "light"
          }
        }
      ]
    },
    {
      "cell_type": "code",
      "source": [
        "x_mean = df[\"xlabel\"].mean()\n",
        "y_mean = df[\"ylabel\"].mean()\n",
        "print(x_mean, y_mean)"
      ],
      "metadata": {
        "id": "k3HIRmhEDvYJ",
        "colab": {
          "base_uri": "https://localhost:8080/"
        },
        "outputId": "44e832b6-656e-4102-a2a7-7cf362769812"
      },
      "execution_count": null,
      "outputs": [
        {
          "output_type": "stream",
          "name": "stdout",
          "text": [
            "8.159799999999999 5.839135051546393\n"
          ]
        }
      ]
    },
    {
      "cell_type": "code",
      "source": [
        "df[\"x\"] = df[\"xlabel\"] - x_mean\n",
        "df[\"y\"] = df[\"ylabel\"] - y_mean\n",
        "df[\"x*y\"] = df[\"x\"] * df[\"y\"]\n",
        "df[\"x^2\"] = df[\"x\"]**2\n",
        "df[\"y^2\"] = df[\"y\"]**2\n",
        "df"
      ],
      "metadata": {
        "id": "6vai6Z-uD1mr",
        "colab": {
          "base_uri": "https://localhost:8080/",
          "height": 424
        },
        "outputId": "26d7dd06-a538-49de-b5d1-bc5af80f4a83"
      },
      "execution_count": null,
      "outputs": [
        {
          "output_type": "execute_result",
          "data": {
            "text/plain": [
              "     xlabel    ylabel       x          y        x*y        x^2         y^2\n",
              "0    6.1101  17.59200 -2.0497  11.752865 -24.089847   4.201270  138.129834\n",
              "1    5.5277   9.13020 -2.6321   3.291065  -8.662412   6.927950   10.831108\n",
              "2    8.5186  13.66200  0.3588   7.822865   2.806844   0.128737   61.197216\n",
              "3    7.0032  11.85400 -1.1566   6.014865  -6.956793   1.337724   36.178600\n",
              "4    5.8598   6.82330 -2.3000   0.984165  -2.263579   5.290000    0.968581\n",
              "..      ...       ...     ...        ...        ...        ...         ...\n",
              "92   5.8707   7.20290 -2.2891   1.363765  -3.121794   5.239979    1.859855\n",
              "93   5.3054   1.98690 -2.8544  -3.852235  10.995820   8.147599   14.839715\n",
              "94   8.2934   0.14454  0.1336  -5.694595  -0.760798   0.017849   32.428413\n",
              "95  13.3940   9.05510  5.2342   3.215965  16.833004  27.396850   10.342431\n",
              "96   5.4369   0.61705 -2.7229  -5.222085  14.219215   7.414184   27.270172\n",
              "\n",
              "[97 rows x 7 columns]"
            ],
            "text/html": [
              "\n",
              "  <div id=\"df-102601ef-0533-4b3e-85d5-56c4c9aee9df\">\n",
              "    <div class=\"colab-df-container\">\n",
              "      <div>\n",
              "<style scoped>\n",
              "    .dataframe tbody tr th:only-of-type {\n",
              "        vertical-align: middle;\n",
              "    }\n",
              "\n",
              "    .dataframe tbody tr th {\n",
              "        vertical-align: top;\n",
              "    }\n",
              "\n",
              "    .dataframe thead th {\n",
              "        text-align: right;\n",
              "    }\n",
              "</style>\n",
              "<table border=\"1\" class=\"dataframe\">\n",
              "  <thead>\n",
              "    <tr style=\"text-align: right;\">\n",
              "      <th></th>\n",
              "      <th>xlabel</th>\n",
              "      <th>ylabel</th>\n",
              "      <th>x</th>\n",
              "      <th>y</th>\n",
              "      <th>x*y</th>\n",
              "      <th>x^2</th>\n",
              "      <th>y^2</th>\n",
              "    </tr>\n",
              "  </thead>\n",
              "  <tbody>\n",
              "    <tr>\n",
              "      <th>0</th>\n",
              "      <td>6.1101</td>\n",
              "      <td>17.59200</td>\n",
              "      <td>-2.0497</td>\n",
              "      <td>11.752865</td>\n",
              "      <td>-24.089847</td>\n",
              "      <td>4.201270</td>\n",
              "      <td>138.129834</td>\n",
              "    </tr>\n",
              "    <tr>\n",
              "      <th>1</th>\n",
              "      <td>5.5277</td>\n",
              "      <td>9.13020</td>\n",
              "      <td>-2.6321</td>\n",
              "      <td>3.291065</td>\n",
              "      <td>-8.662412</td>\n",
              "      <td>6.927950</td>\n",
              "      <td>10.831108</td>\n",
              "    </tr>\n",
              "    <tr>\n",
              "      <th>2</th>\n",
              "      <td>8.5186</td>\n",
              "      <td>13.66200</td>\n",
              "      <td>0.3588</td>\n",
              "      <td>7.822865</td>\n",
              "      <td>2.806844</td>\n",
              "      <td>0.128737</td>\n",
              "      <td>61.197216</td>\n",
              "    </tr>\n",
              "    <tr>\n",
              "      <th>3</th>\n",
              "      <td>7.0032</td>\n",
              "      <td>11.85400</td>\n",
              "      <td>-1.1566</td>\n",
              "      <td>6.014865</td>\n",
              "      <td>-6.956793</td>\n",
              "      <td>1.337724</td>\n",
              "      <td>36.178600</td>\n",
              "    </tr>\n",
              "    <tr>\n",
              "      <th>4</th>\n",
              "      <td>5.8598</td>\n",
              "      <td>6.82330</td>\n",
              "      <td>-2.3000</td>\n",
              "      <td>0.984165</td>\n",
              "      <td>-2.263579</td>\n",
              "      <td>5.290000</td>\n",
              "      <td>0.968581</td>\n",
              "    </tr>\n",
              "    <tr>\n",
              "      <th>...</th>\n",
              "      <td>...</td>\n",
              "      <td>...</td>\n",
              "      <td>...</td>\n",
              "      <td>...</td>\n",
              "      <td>...</td>\n",
              "      <td>...</td>\n",
              "      <td>...</td>\n",
              "    </tr>\n",
              "    <tr>\n",
              "      <th>92</th>\n",
              "      <td>5.8707</td>\n",
              "      <td>7.20290</td>\n",
              "      <td>-2.2891</td>\n",
              "      <td>1.363765</td>\n",
              "      <td>-3.121794</td>\n",
              "      <td>5.239979</td>\n",
              "      <td>1.859855</td>\n",
              "    </tr>\n",
              "    <tr>\n",
              "      <th>93</th>\n",
              "      <td>5.3054</td>\n",
              "      <td>1.98690</td>\n",
              "      <td>-2.8544</td>\n",
              "      <td>-3.852235</td>\n",
              "      <td>10.995820</td>\n",
              "      <td>8.147599</td>\n",
              "      <td>14.839715</td>\n",
              "    </tr>\n",
              "    <tr>\n",
              "      <th>94</th>\n",
              "      <td>8.2934</td>\n",
              "      <td>0.14454</td>\n",
              "      <td>0.1336</td>\n",
              "      <td>-5.694595</td>\n",
              "      <td>-0.760798</td>\n",
              "      <td>0.017849</td>\n",
              "      <td>32.428413</td>\n",
              "    </tr>\n",
              "    <tr>\n",
              "      <th>95</th>\n",
              "      <td>13.3940</td>\n",
              "      <td>9.05510</td>\n",
              "      <td>5.2342</td>\n",
              "      <td>3.215965</td>\n",
              "      <td>16.833004</td>\n",
              "      <td>27.396850</td>\n",
              "      <td>10.342431</td>\n",
              "    </tr>\n",
              "    <tr>\n",
              "      <th>96</th>\n",
              "      <td>5.4369</td>\n",
              "      <td>0.61705</td>\n",
              "      <td>-2.7229</td>\n",
              "      <td>-5.222085</td>\n",
              "      <td>14.219215</td>\n",
              "      <td>7.414184</td>\n",
              "      <td>27.270172</td>\n",
              "    </tr>\n",
              "  </tbody>\n",
              "</table>\n",
              "<p>97 rows × 7 columns</p>\n",
              "</div>\n",
              "      <button class=\"colab-df-convert\" onclick=\"convertToInteractive('df-102601ef-0533-4b3e-85d5-56c4c9aee9df')\"\n",
              "              title=\"Convert this dataframe to an interactive table.\"\n",
              "              style=\"display:none;\">\n",
              "        \n",
              "  <svg xmlns=\"http://www.w3.org/2000/svg\" height=\"24px\"viewBox=\"0 0 24 24\"\n",
              "       width=\"24px\">\n",
              "    <path d=\"M0 0h24v24H0V0z\" fill=\"none\"/>\n",
              "    <path d=\"M18.56 5.44l.94 2.06.94-2.06 2.06-.94-2.06-.94-.94-2.06-.94 2.06-2.06.94zm-11 1L8.5 8.5l.94-2.06 2.06-.94-2.06-.94L8.5 2.5l-.94 2.06-2.06.94zm10 10l.94 2.06.94-2.06 2.06-.94-2.06-.94-.94-2.06-.94 2.06-2.06.94z\"/><path d=\"M17.41 7.96l-1.37-1.37c-.4-.4-.92-.59-1.43-.59-.52 0-1.04.2-1.43.59L10.3 9.45l-7.72 7.72c-.78.78-.78 2.05 0 2.83L4 21.41c.39.39.9.59 1.41.59.51 0 1.02-.2 1.41-.59l7.78-7.78 2.81-2.81c.8-.78.8-2.07 0-2.86zM5.41 20L4 18.59l7.72-7.72 1.47 1.35L5.41 20z\"/>\n",
              "  </svg>\n",
              "      </button>\n",
              "      \n",
              "  <style>\n",
              "    .colab-df-container {\n",
              "      display:flex;\n",
              "      flex-wrap:wrap;\n",
              "      gap: 12px;\n",
              "    }\n",
              "\n",
              "    .colab-df-convert {\n",
              "      background-color: #E8F0FE;\n",
              "      border: none;\n",
              "      border-radius: 50%;\n",
              "      cursor: pointer;\n",
              "      display: none;\n",
              "      fill: #1967D2;\n",
              "      height: 32px;\n",
              "      padding: 0 0 0 0;\n",
              "      width: 32px;\n",
              "    }\n",
              "\n",
              "    .colab-df-convert:hover {\n",
              "      background-color: #E2EBFA;\n",
              "      box-shadow: 0px 1px 2px rgba(60, 64, 67, 0.3), 0px 1px 3px 1px rgba(60, 64, 67, 0.15);\n",
              "      fill: #174EA6;\n",
              "    }\n",
              "\n",
              "    [theme=dark] .colab-df-convert {\n",
              "      background-color: #3B4455;\n",
              "      fill: #D2E3FC;\n",
              "    }\n",
              "\n",
              "    [theme=dark] .colab-df-convert:hover {\n",
              "      background-color: #434B5C;\n",
              "      box-shadow: 0px 1px 3px 1px rgba(0, 0, 0, 0.15);\n",
              "      filter: drop-shadow(0px 1px 2px rgba(0, 0, 0, 0.3));\n",
              "      fill: #FFFFFF;\n",
              "    }\n",
              "  </style>\n",
              "\n",
              "      <script>\n",
              "        const buttonEl =\n",
              "          document.querySelector('#df-102601ef-0533-4b3e-85d5-56c4c9aee9df button.colab-df-convert');\n",
              "        buttonEl.style.display =\n",
              "          google.colab.kernel.accessAllowed ? 'block' : 'none';\n",
              "\n",
              "        async function convertToInteractive(key) {\n",
              "          const element = document.querySelector('#df-102601ef-0533-4b3e-85d5-56c4c9aee9df');\n",
              "          const dataTable =\n",
              "            await google.colab.kernel.invokeFunction('convertToInteractive',\n",
              "                                                     [key], {});\n",
              "          if (!dataTable) return;\n",
              "\n",
              "          const docLinkHtml = 'Like what you see? Visit the ' +\n",
              "            '<a target=\"_blank\" href=https://colab.research.google.com/notebooks/data_table.ipynb>data table notebook</a>'\n",
              "            + ' to learn more about interactive tables.';\n",
              "          element.innerHTML = '';\n",
              "          dataTable['output_type'] = 'display_data';\n",
              "          await google.colab.output.renderOutput(dataTable, element);\n",
              "          const docLink = document.createElement('div');\n",
              "          docLink.innerHTML = docLinkHtml;\n",
              "          element.appendChild(docLink);\n",
              "        }\n",
              "      </script>\n",
              "    </div>\n",
              "  </div>\n",
              "  "
            ]
          },
          "metadata": {},
          "execution_count": 22
        }
      ]
    },
    {
      "cell_type": "code",
      "source": [
        "summation_x_y = df[\"x*y\"].sum()\n",
        "summation_x_squared = df[\"x^2\"].sum()\n",
        "summation_y_squared = df[\"y^2\"].sum()\n",
        "print(summation_x_y, summation_x_squared, summation_y_squared)"
      ],
      "metadata": {
        "id": "m1OwvXUFD3jc",
        "colab": {
          "base_uri": "https://localhost:8080/"
        },
        "outputId": "988b94a9-731a-4193-9ee8-5fc14815a0a6"
      },
      "execution_count": null,
      "outputs": [
        {
          "output_type": "stream",
          "name": "stdout",
          "text": [
            "1715.219528539 1437.69585786 2914.8470516572247\n"
          ]
        }
      ]
    },
    {
      "cell_type": "code",
      "source": [
        "correlation = summation_x_y / (summation_x_squared * summation_y_squared)**0.5\n",
        "correlation"
      ],
      "metadata": {
        "id": "ckp1nZIpD5M4",
        "colab": {
          "base_uri": "https://localhost:8080/"
        },
        "outputId": "2c998d4d-f38e-4d93-b754-398185917322"
      },
      "execution_count": null,
      "outputs": [
        {
          "output_type": "execute_result",
          "data": {
            "text/plain": [
              "0.8378732325263409"
            ]
          },
          "metadata": {},
          "execution_count": 24
        }
      ]
    },
    {
      "cell_type": "code",
      "source": [
        "std_deviation_x = statistics.stdev(df[\"xlabel\"])\n",
        "std_deviation_y = statistics.stdev(df[\"ylabel\"])\n",
        "print(std_deviation_x, std_deviation_y)"
      ],
      "metadata": {
        "id": "E017fwRpD-hI",
        "colab": {
          "base_uri": "https://localhost:8080/"
        },
        "outputId": "ac51cf2d-2441-43e7-efa3-4dafbbc52d26"
      },
      "execution_count": null,
      "outputs": [
        {
          "output_type": "stream",
          "name": "stdout",
          "text": [
            "3.8698835278823314 5.510262255231544\n"
          ]
        }
      ]
    },
    {
      "cell_type": "code",
      "source": [
        "m = correlation * (std_deviation_y / std_deviation_x)\n",
        "m"
      ],
      "metadata": {
        "id": "tBU7cL5fD_6b",
        "colab": {
          "base_uri": "https://localhost:8080/"
        },
        "outputId": "f0559ff7-96d3-4f9b-f179-e3cd02f56445"
      },
      "execution_count": null,
      "outputs": [
        {
          "output_type": "execute_result",
          "data": {
            "text/plain": [
              "1.193033644189594"
            ]
          },
          "metadata": {},
          "execution_count": 46
        }
      ]
    },
    {
      "cell_type": "code",
      "source": [
        "c = y_mean - m * x_mean\n",
        "c"
      ],
      "metadata": {
        "id": "sR38QfeKEGxi",
        "colab": {
          "base_uri": "https://localhost:8080/"
        },
        "outputId": "aec4edd6-8a43-43b1-9e29-424c372cfa36"
      },
      "execution_count": null,
      "outputs": [
        {
          "output_type": "execute_result",
          "data": {
            "text/plain": [
              "-3.8957808783118537"
            ]
          },
          "metadata": {},
          "execution_count": 63
        }
      ]
    },
    {
      "cell_type": "code",
      "source": [
        "df[\"y_prediction\"] = m * df[\"xlabel\"] + c\n",
        "df"
      ],
      "metadata": {
        "id": "LA0KyyGOEIZH",
        "colab": {
          "base_uri": "https://localhost:8080/",
          "height": 424
        },
        "outputId": "2607d14c-29b9-4a1f-c579-4eb823dc3572"
      },
      "execution_count": null,
      "outputs": [
        {
          "output_type": "execute_result",
          "data": {
            "text/plain": [
              "     xlabel    ylabel       x          y        x*y        x^2         y^2  \\\n",
              "0    6.1101  17.59200 -2.0497  11.752865 -24.089847   4.201270  138.129834   \n",
              "1    5.5277   9.13020 -2.6321   3.291065  -8.662412   6.927950   10.831108   \n",
              "2    8.5186  13.66200  0.3588   7.822865   2.806844   0.128737   61.197216   \n",
              "3    7.0032  11.85400 -1.1566   6.014865  -6.956793   1.337724   36.178600   \n",
              "4    5.8598   6.82330 -2.3000   0.984165  -2.263579   5.290000    0.968581   \n",
              "..      ...       ...     ...        ...        ...        ...         ...   \n",
              "92   5.8707   7.20290 -2.2891   1.363765  -3.121794   5.239979    1.859855   \n",
              "93   5.3054   1.98690 -2.8544  -3.852235  10.995820   8.147599   14.839715   \n",
              "94   8.2934   0.14454  0.1336  -5.694595  -0.760798   0.017849   32.428413   \n",
              "95  13.3940   9.05510  5.2342   3.215965  16.833004  27.396850   10.342431   \n",
              "96   5.4369   0.61705 -2.7229  -5.222085  14.219215   7.414184   27.270172   \n",
              "\n",
              "    y_prediction  \n",
              "0       3.393774  \n",
              "1       2.698951  \n",
              "2       6.267196  \n",
              "3       4.459272  \n",
              "4       3.095158  \n",
              "..           ...  \n",
              "92      3.108162  \n",
              "93      2.433740  \n",
              "94      5.998524  \n",
              "95     12.083712  \n",
              "96      2.590624  \n",
              "\n",
              "[97 rows x 8 columns]"
            ],
            "text/html": [
              "\n",
              "  <div id=\"df-6d44ed99-1865-4bbf-aefc-c38c5dc4195c\">\n",
              "    <div class=\"colab-df-container\">\n",
              "      <div>\n",
              "<style scoped>\n",
              "    .dataframe tbody tr th:only-of-type {\n",
              "        vertical-align: middle;\n",
              "    }\n",
              "\n",
              "    .dataframe tbody tr th {\n",
              "        vertical-align: top;\n",
              "    }\n",
              "\n",
              "    .dataframe thead th {\n",
              "        text-align: right;\n",
              "    }\n",
              "</style>\n",
              "<table border=\"1\" class=\"dataframe\">\n",
              "  <thead>\n",
              "    <tr style=\"text-align: right;\">\n",
              "      <th></th>\n",
              "      <th>xlabel</th>\n",
              "      <th>ylabel</th>\n",
              "      <th>x</th>\n",
              "      <th>y</th>\n",
              "      <th>x*y</th>\n",
              "      <th>x^2</th>\n",
              "      <th>y^2</th>\n",
              "      <th>y_prediction</th>\n",
              "    </tr>\n",
              "  </thead>\n",
              "  <tbody>\n",
              "    <tr>\n",
              "      <th>0</th>\n",
              "      <td>6.1101</td>\n",
              "      <td>17.59200</td>\n",
              "      <td>-2.0497</td>\n",
              "      <td>11.752865</td>\n",
              "      <td>-24.089847</td>\n",
              "      <td>4.201270</td>\n",
              "      <td>138.129834</td>\n",
              "      <td>3.393774</td>\n",
              "    </tr>\n",
              "    <tr>\n",
              "      <th>1</th>\n",
              "      <td>5.5277</td>\n",
              "      <td>9.13020</td>\n",
              "      <td>-2.6321</td>\n",
              "      <td>3.291065</td>\n",
              "      <td>-8.662412</td>\n",
              "      <td>6.927950</td>\n",
              "      <td>10.831108</td>\n",
              "      <td>2.698951</td>\n",
              "    </tr>\n",
              "    <tr>\n",
              "      <th>2</th>\n",
              "      <td>8.5186</td>\n",
              "      <td>13.66200</td>\n",
              "      <td>0.3588</td>\n",
              "      <td>7.822865</td>\n",
              "      <td>2.806844</td>\n",
              "      <td>0.128737</td>\n",
              "      <td>61.197216</td>\n",
              "      <td>6.267196</td>\n",
              "    </tr>\n",
              "    <tr>\n",
              "      <th>3</th>\n",
              "      <td>7.0032</td>\n",
              "      <td>11.85400</td>\n",
              "      <td>-1.1566</td>\n",
              "      <td>6.014865</td>\n",
              "      <td>-6.956793</td>\n",
              "      <td>1.337724</td>\n",
              "      <td>36.178600</td>\n",
              "      <td>4.459272</td>\n",
              "    </tr>\n",
              "    <tr>\n",
              "      <th>4</th>\n",
              "      <td>5.8598</td>\n",
              "      <td>6.82330</td>\n",
              "      <td>-2.3000</td>\n",
              "      <td>0.984165</td>\n",
              "      <td>-2.263579</td>\n",
              "      <td>5.290000</td>\n",
              "      <td>0.968581</td>\n",
              "      <td>3.095158</td>\n",
              "    </tr>\n",
              "    <tr>\n",
              "      <th>...</th>\n",
              "      <td>...</td>\n",
              "      <td>...</td>\n",
              "      <td>...</td>\n",
              "      <td>...</td>\n",
              "      <td>...</td>\n",
              "      <td>...</td>\n",
              "      <td>...</td>\n",
              "      <td>...</td>\n",
              "    </tr>\n",
              "    <tr>\n",
              "      <th>92</th>\n",
              "      <td>5.8707</td>\n",
              "      <td>7.20290</td>\n",
              "      <td>-2.2891</td>\n",
              "      <td>1.363765</td>\n",
              "      <td>-3.121794</td>\n",
              "      <td>5.239979</td>\n",
              "      <td>1.859855</td>\n",
              "      <td>3.108162</td>\n",
              "    </tr>\n",
              "    <tr>\n",
              "      <th>93</th>\n",
              "      <td>5.3054</td>\n",
              "      <td>1.98690</td>\n",
              "      <td>-2.8544</td>\n",
              "      <td>-3.852235</td>\n",
              "      <td>10.995820</td>\n",
              "      <td>8.147599</td>\n",
              "      <td>14.839715</td>\n",
              "      <td>2.433740</td>\n",
              "    </tr>\n",
              "    <tr>\n",
              "      <th>94</th>\n",
              "      <td>8.2934</td>\n",
              "      <td>0.14454</td>\n",
              "      <td>0.1336</td>\n",
              "      <td>-5.694595</td>\n",
              "      <td>-0.760798</td>\n",
              "      <td>0.017849</td>\n",
              "      <td>32.428413</td>\n",
              "      <td>5.998524</td>\n",
              "    </tr>\n",
              "    <tr>\n",
              "      <th>95</th>\n",
              "      <td>13.3940</td>\n",
              "      <td>9.05510</td>\n",
              "      <td>5.2342</td>\n",
              "      <td>3.215965</td>\n",
              "      <td>16.833004</td>\n",
              "      <td>27.396850</td>\n",
              "      <td>10.342431</td>\n",
              "      <td>12.083712</td>\n",
              "    </tr>\n",
              "    <tr>\n",
              "      <th>96</th>\n",
              "      <td>5.4369</td>\n",
              "      <td>0.61705</td>\n",
              "      <td>-2.7229</td>\n",
              "      <td>-5.222085</td>\n",
              "      <td>14.219215</td>\n",
              "      <td>7.414184</td>\n",
              "      <td>27.270172</td>\n",
              "      <td>2.590624</td>\n",
              "    </tr>\n",
              "  </tbody>\n",
              "</table>\n",
              "<p>97 rows × 8 columns</p>\n",
              "</div>\n",
              "      <button class=\"colab-df-convert\" onclick=\"convertToInteractive('df-6d44ed99-1865-4bbf-aefc-c38c5dc4195c')\"\n",
              "              title=\"Convert this dataframe to an interactive table.\"\n",
              "              style=\"display:none;\">\n",
              "        \n",
              "  <svg xmlns=\"http://www.w3.org/2000/svg\" height=\"24px\"viewBox=\"0 0 24 24\"\n",
              "       width=\"24px\">\n",
              "    <path d=\"M0 0h24v24H0V0z\" fill=\"none\"/>\n",
              "    <path d=\"M18.56 5.44l.94 2.06.94-2.06 2.06-.94-2.06-.94-.94-2.06-.94 2.06-2.06.94zm-11 1L8.5 8.5l.94-2.06 2.06-.94-2.06-.94L8.5 2.5l-.94 2.06-2.06.94zm10 10l.94 2.06.94-2.06 2.06-.94-2.06-.94-.94-2.06-.94 2.06-2.06.94z\"/><path d=\"M17.41 7.96l-1.37-1.37c-.4-.4-.92-.59-1.43-.59-.52 0-1.04.2-1.43.59L10.3 9.45l-7.72 7.72c-.78.78-.78 2.05 0 2.83L4 21.41c.39.39.9.59 1.41.59.51 0 1.02-.2 1.41-.59l7.78-7.78 2.81-2.81c.8-.78.8-2.07 0-2.86zM5.41 20L4 18.59l7.72-7.72 1.47 1.35L5.41 20z\"/>\n",
              "  </svg>\n",
              "      </button>\n",
              "      \n",
              "  <style>\n",
              "    .colab-df-container {\n",
              "      display:flex;\n",
              "      flex-wrap:wrap;\n",
              "      gap: 12px;\n",
              "    }\n",
              "\n",
              "    .colab-df-convert {\n",
              "      background-color: #E8F0FE;\n",
              "      border: none;\n",
              "      border-radius: 50%;\n",
              "      cursor: pointer;\n",
              "      display: none;\n",
              "      fill: #1967D2;\n",
              "      height: 32px;\n",
              "      padding: 0 0 0 0;\n",
              "      width: 32px;\n",
              "    }\n",
              "\n",
              "    .colab-df-convert:hover {\n",
              "      background-color: #E2EBFA;\n",
              "      box-shadow: 0px 1px 2px rgba(60, 64, 67, 0.3), 0px 1px 3px 1px rgba(60, 64, 67, 0.15);\n",
              "      fill: #174EA6;\n",
              "    }\n",
              "\n",
              "    [theme=dark] .colab-df-convert {\n",
              "      background-color: #3B4455;\n",
              "      fill: #D2E3FC;\n",
              "    }\n",
              "\n",
              "    [theme=dark] .colab-df-convert:hover {\n",
              "      background-color: #434B5C;\n",
              "      box-shadow: 0px 1px 3px 1px rgba(0, 0, 0, 0.15);\n",
              "      filter: drop-shadow(0px 1px 2px rgba(0, 0, 0, 0.3));\n",
              "      fill: #FFFFFF;\n",
              "    }\n",
              "  </style>\n",
              "\n",
              "      <script>\n",
              "        const buttonEl =\n",
              "          document.querySelector('#df-6d44ed99-1865-4bbf-aefc-c38c5dc4195c button.colab-df-convert');\n",
              "        buttonEl.style.display =\n",
              "          google.colab.kernel.accessAllowed ? 'block' : 'none';\n",
              "\n",
              "        async function convertToInteractive(key) {\n",
              "          const element = document.querySelector('#df-6d44ed99-1865-4bbf-aefc-c38c5dc4195c');\n",
              "          const dataTable =\n",
              "            await google.colab.kernel.invokeFunction('convertToInteractive',\n",
              "                                                     [key], {});\n",
              "          if (!dataTable) return;\n",
              "\n",
              "          const docLinkHtml = 'Like what you see? Visit the ' +\n",
              "            '<a target=\"_blank\" href=https://colab.research.google.com/notebooks/data_table.ipynb>data table notebook</a>'\n",
              "            + ' to learn more about interactive tables.';\n",
              "          element.innerHTML = '';\n",
              "          dataTable['output_type'] = 'display_data';\n",
              "          await google.colab.output.renderOutput(dataTable, element);\n",
              "          const docLink = document.createElement('div');\n",
              "          docLink.innerHTML = docLinkHtml;\n",
              "          element.appendChild(docLink);\n",
              "        }\n",
              "      </script>\n",
              "    </div>\n",
              "  </div>\n",
              "  "
            ]
          },
          "metadata": {},
          "execution_count": 48
        }
      ]
    },
    {
      "cell_type": "code",
      "source": [
        "plot1 = plt.scatter(df[\"xlabel\"], df[\"ylabel\"])\n",
        "plot2 = plt.plot(df[\"xlabel\"], df[\"y_prediction\"])\n",
        "plt.show()"
      ],
      "metadata": {
        "id": "N_0aJRRrEJr6",
        "colab": {
          "base_uri": "https://localhost:8080/",
          "height": 266
        },
        "outputId": "78ee49aa-d6c5-4433-cfdf-3adb037365ad"
      },
      "execution_count": null,
      "outputs": [
        {
          "output_type": "display_data",
          "data": {
            "text/plain": [
              "<Figure size 432x288 with 1 Axes>"
            ],
            "image/png": "[encoded data removed]"
          },
          "metadata": {
            "needs_background": "light"
          }
        }
      ]
    },
    {
      "cell_type": "code",
      "source": [
        "correlation"
      ],
      "metadata": {
        "id": "D1YRyIq3EMk1",
        "colab": {
          "base_uri": "https://localhost:8080/"
        },
        "outputId": "9b757944-8fed-4973-87b8-b591db37142c"
      },
      "execution_count": null,
      "outputs": [
        {
          "output_type": "execute_result",
          "data": {
            "text/plain": [
              "0.8378732325263409"
            ]
          },
          "metadata": {},
          "execution_count": 51
        }
      ]
    },
    {
      "cell_type": "code",
      "source": [
        "ssr=sum((df[\"y_prediction\"]-y_mean)**2)\n",
        "ssr"
      ],
      "metadata": {
        "id": "MGPWI_cgEOfq",
        "colab": {
          "base_uri": "https://localhost:8080/"
        },
        "outputId": "eb696ae7-6a18-4063-d20f-099dcbc6ef9f"
      },
      "execution_count": null,
      "outputs": [
        {
          "output_type": "execute_result",
          "data": {
            "text/plain": [
              "2046.314604718041"
            ]
          },
          "metadata": {},
          "execution_count": 52
        }
      ]
    },
    {
      "cell_type": "code",
      "source": [
        "sse=((df['ylabel']-df[\"y_prediction\"])**2).sum()\n",
        "sse"
      ],
      "metadata": {
        "id": "rx7ERk79EP0Q",
        "colab": {
          "base_uri": "https://localhost:8080/"
        },
        "outputId": "3bdfab7d-dcd4-4d4c-9a61-94a062746ea6"
      },
      "execution_count": null,
      "outputs": [
        {
          "output_type": "execute_result",
          "data": {
            "text/plain": [
              "868.5324469391845"
            ]
          },
          "metadata": {},
          "execution_count": 53
        }
      ]
    },
    {
      "cell_type": "code",
      "source": [
        "tss=sum((df['ylabel']-y_mean)**2)\n",
        "tss"
      ],
      "metadata": {
        "id": "kV-jljyCEQ-r",
        "colab": {
          "base_uri": "https://localhost:8080/"
        },
        "outputId": "3c3c39fc-ab7b-4d3c-8b4b-665dcd54bf32"
      },
      "execution_count": null,
      "outputs": [
        {
          "output_type": "execute_result",
          "data": {
            "text/plain": [
              "2914.8470516572247"
            ]
          },
          "metadata": {},
          "execution_count": 54
        }
      ]
    },
    {
      "cell_type": "code",
      "source": [
        "tss_new=sse+ssr\n",
        "tss_new"
      ],
      "metadata": {
        "id": "4AcDTSK3ETC_",
        "colab": {
          "base_uri": "https://localhost:8080/"
        },
        "outputId": "2bce3952-6e56-4c82-9d96-01125f0e9de5"
      },
      "execution_count": null,
      "outputs": [
        {
          "output_type": "execute_result",
          "data": {
            "text/plain": [
              "2914.8470516572256"
            ]
          },
          "metadata": {},
          "execution_count": 55
        }
      ]
    },
    {
      "cell_type": "code",
      "source": [
        "r_sq=correlation**2\n",
        "r_sq"
      ],
      "metadata": {
        "id": "KGwnn0vPEUh0",
        "colab": {
          "base_uri": "https://localhost:8080/"
        },
        "outputId": "67b01d3f-2841-40f1-a45d-dbc242977cd2"
      },
      "execution_count": null,
      "outputs": [
        {
          "output_type": "execute_result",
          "data": {
            "text/plain": [
              "0.7020315537841398"
            ]
          },
          "metadata": {},
          "execution_count": 80
        }
      ]
    },
    {
      "cell_type": "code",
      "source": [
        "cost=sse/96\n",
        "cost"
      ],
      "metadata": {
        "id": "6IFxY9pCEWpJ",
        "colab": {
          "base_uri": "https://localhost:8080/"
        },
        "outputId": "a88b2839-b96e-4750-c13a-1bf911396548"
      },
      "execution_count": null,
      "outputs": [
        {
          "output_type": "execute_result",
          "data": {
            "text/plain": [
              "9.04721298894984"
            ]
          },
          "metadata": {},
          "execution_count": 57
        }
      ]
    }
  ]
}