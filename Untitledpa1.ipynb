{
  "nbformat": 4,
  "nbformat_minor": 0,
  "metadata": {
    "colab": {
      "provenance": []
    },
    "kernelspec": {
      "name": "python3",
      "display_name": "Python 3"
    },
    "language_info": {
      "name": "python"
    }
  },
  "cells": [
    {
      "cell_type": "code",
      "execution_count": null,
      "metadata": {
        "colab": {
          "base_uri": "https://localhost:8080/"
        },
        "id": "631Ei_u0_CV2",
        "outputId": "f2482390-1df0-4cb5-a553-d0a5781f616b"
      },
      "outputs": [
        {
          "output_type": "stream",
          "name": "stdout",
          "text": [
            "mean= 121.24000000000001\n",
            "median= 118.4\n",
            "No mode\n",
            "variance= 7017.724\n",
            "Std Deviation 83.7718568494217\n",
            "Min Max normalization\n",
            "0.0\n",
            "0.14462416745956222\n",
            "0.18839200761179828\n",
            "0.1950523311132255\n",
            "0.23691722169362506\n",
            "0.24643196955280677\n",
            "0.2863939105613701\n",
            "0.3035204567078972\n",
            "0.3330161750713606\n",
            "1.0\n",
            "Standardization\n",
            "-0.3681427290722982\n",
            "-0.1866975448343304\n",
            "-0.1317865022359979\n",
            "-0.12343047401451247\n",
            "-0.07090686805089026\n",
            "-0.05896968487733974\n",
            "-0.008833515548427498\n",
            "0.012653414163963414\n",
            "0.04965868200197015\n",
            "0.8864552224678619\n"
          ]
        }
      ],
      "source": [
        "import math\n",
        "arr = [115.3,195.5,120.5,110.2,90.4,105.6,110.9,116.3,122.3,125.4]\n",
        "sum = 0\n",
        "for i in arr:\n",
        "    sum = sum + i\n",
        "mean = sum/10\n",
        "print(\"mean=\",mean)\n",
        "arr.sort()\n",
        "mid = len(arr)//2\n",
        "med = (arr[mid]+arr[mid+1])/2\n",
        "print(\"median=\",med)\n",
        "count = 1\n",
        "m=0\n",
        "diff=0.0\n",
        "var=0.0\n",
        "mod=0.0\n",
        "for i in range(0,10):\n",
        "    for j in range(i+1,10):\n",
        "        if arr[i]==arr[j]:\n",
        "            count=count+1\n",
        "    if count>m:\n",
        "        m=count\n",
        "        mod=arr[i]\n",
        "if m==1:\n",
        "    print(\"No mode\")\n",
        "else:\n",
        "    print(\"Mode=\",mod)\n",
        "        \n",
        "for i in arr:\n",
        "    diff=i-mean\n",
        "    var=var+(diff**2)\n",
        "print(\"variance=\",var)\n",
        "stdev=math.sqrt(var)\n",
        "print(\"Std Deviation\",stdev)\n",
        "diff = arr[9]-arr[0]\n",
        "print(\"Min Max normalization\")\n",
        "for i in arr:\n",
        "    y = (i-arr[0])/diff\n",
        "    print(y)\n",
        "print(\"Standardization\")    \n",
        "for i in arr:\n",
        "    stn = (i-mean)/stdev\n",
        "    print(stn)"
      ]
    }
  ]
}