{
  "nbformat": 4,
  "nbformat_minor": 0,
  "metadata": {
    "colab": {
      "provenance": []
    },
    "kernelspec": {
      "name": "python3",
      "display_name": "Python 3"
    },
    "language_info": {
      "name": "python"
    }
  },
  "cells": [
    {
      "cell_type": "code",
      "execution_count": 1,
      "metadata": {
        "id": "gce6wLd5tb29"
      },
      "outputs": [],
      "source": [
        "import numpy as np\n",
        "import pandas as pd\n"
      ]
    },
    {
      "cell_type": "code",
      "source": [
        "lst = []\n",
        "  \n",
        "# number of elements as input\n",
        "n = int(input(\"Enter number of elements : \"))\n",
        "  \n"
      ],
      "metadata": {
        "colab": {
          "base_uri": "https://localhost:8080/"
        },
        "id": "BgTwrK4WtuR7",
        "outputId": "08ac6f0b-b310-4495-a11a-e05043c9cade"
      },
      "execution_count": 2,
      "outputs": [
        {
          "name": "stdout",
          "output_type": "stream",
          "text": [
            "Enter number of elements : 4\n"
          ]
        }
      ]
    },
    {
      "cell_type": "code",
      "source": [
        "# iterating till the range\n",
        "for i in range(0, n):\n",
        "    ele = int(input())\n",
        "  \n",
        "    lst.append(ele) # adding the element\n",
        "      \n",
        "print(lst)\n",
        "\n"
      ],
      "metadata": {
        "colab": {
          "base_uri": "https://localhost:8080/"
        },
        "id": "NiaV4buctysr",
        "outputId": "5579cbb7-2cc2-448e-b3a8-9ed620a94054"
      },
      "execution_count": 3,
      "outputs": [
        {
          "output_type": "stream",
          "name": "stdout",
          "text": [
            "1\n",
            "2\n",
            "3\n",
            "4\n",
            "[1, 2, 3, 4]\n"
          ]
        }
      ]
    },
    {
      "cell_type": "code",
      "source": [
        "#mean\n",
        "s=0\n",
        "for i in range(0,n):\n",
        "    s+=lst[i]\n",
        "\n",
        "mean=s/n\n",
        "print(\"Mean is: \"+str(mean))\n"
      ],
      "metadata": {
        "colab": {
          "base_uri": "https://localhost:8080/"
        },
        "id": "WI07ujAAt6jY",
        "outputId": "8ff3667f-c69b-43f2-b8bd-db8e7b047388"
      },
      "execution_count": 4,
      "outputs": [
        {
          "output_type": "stream",
          "name": "stdout",
          "text": [
            "Mean is: 2.5\n"
          ]
        }
      ]
    },
    {
      "cell_type": "code",
      "source": [
        "#median\n",
        "lst.sort()\n",
        "\n",
        "if n%2==0:\n",
        "    print(\"Median is :\"+str((lst[int(n/2)-1]+lst[int(n/2)])/2))\n",
        "else:\n",
        "    print(\"Median is :\"+str(lst[int(n/2)-1]))\n",
        "\n",
        "\n"
      ],
      "metadata": {
        "colab": {
          "base_uri": "https://localhost:8080/"
        },
        "id": "NCdGGwUXuEI2",
        "outputId": "0f453ce1-deba-43a6-c2f3-290957f46e45"
      },
      "execution_count": 5,
      "outputs": [
        {
          "output_type": "stream",
          "name": "stdout",
          "text": [
            "Median is :2.5\n"
          ]
        }
      ]
    },
    {
      "cell_type": "code",
      "source": [
        "#mode\n",
        "max_count=0\n",
        "print(lst)\n",
        "mode=lst[0]\n",
        "count=0\n",
        "num=lst[0]\n",
        "for i in range(0,n):\n",
        "    if lst[i]==num:\n",
        "        count=count+1\n",
        "    elif lst[i]!=num :\n",
        "        if count>max_count:\n",
        "            mode=lst[i]\n",
        "            max_count=count\n",
        "    count=1\n",
        "    num=lst[i]\n",
        "\n",
        "print(\"Mode is :\"+str(mode))\n"
      ],
      "metadata": {
        "colab": {
          "base_uri": "https://localhost:8080/"
        },
        "id": "MX7mojE_uNRl",
        "outputId": "c0f8695d-31ab-4a97-9c7e-e305e4e6ea33"
      },
      "execution_count": 6,
      "outputs": [
        {
          "output_type": "stream",
          "name": "stdout",
          "text": [
            "[1, 2, 3, 4]\n",
            "Mode is :2\n"
          ]
        }
      ]
    },
    {
      "cell_type": "code",
      "source": [
        "#variance\n",
        "\n",
        "x=0\n",
        "for i in range(0,n):\n",
        "    x+=(lst[i]-mean)**2\n",
        "\n",
        "variance=x/n\n",
        "print(\"Variance is :\"+str(variance))\n",
        "\n",
        "\n"
      ],
      "metadata": {
        "colab": {
          "base_uri": "https://localhost:8080/"
        },
        "id": "-AmnZMwYuUOO",
        "outputId": "f09b7ff4-cb1d-40d5-e636-bb71480775ad"
      },
      "execution_count": 10,
      "outputs": [
        {
          "output_type": "stream",
          "name": "stdout",
          "text": [
            "Variance is :1.25\n"
          ]
        }
      ]
    },
    {
      "cell_type": "code",
      "source": [
        "#standard deviation\n",
        "std_dev=variance**.5\n",
        "print(\"Standard Deviation is :\"+str('%.2f'%std_dev))\n",
        "\n",
        "\n"
      ],
      "metadata": {
        "colab": {
          "base_uri": "https://localhost:8080/"
        },
        "id": "n0XStCtAuWcy",
        "outputId": "d45f0478-0d01-4da3-cc4a-e4276b21b14c"
      },
      "execution_count": 8,
      "outputs": [
        {
          "output_type": "stream",
          "name": "stdout",
          "text": [
            "Standard Deviation is :1.12\n"
          ]
        }
      ]
    },
    {
      "cell_type": "code",
      "source": [
        "\n",
        "#normaliztion\n",
        "max1=lst[0]\n",
        "min1=lst[0]\n",
        "for i in range(0,n):\n",
        "    if lst[i]>max1:\n",
        "        max1=lst[i]\n",
        "    elif lst[i]<min1:\n",
        "        min1=lst[i]\n",
        "        \n",
        "\n",
        "range1=max1-min1\n",
        "nor_lst=[]\n",
        "\n",
        "for i in range(0,n):\n",
        "    num=(lst[i]-min1)/range1\n",
        "    nor_lst.append(num)\n",
        "    \n",
        "print(\"Noramlized list is :\"+str(nor_lst))\n"
      ],
      "metadata": {
        "colab": {
          "base_uri": "https://localhost:8080/"
        },
        "id": "VvNOlVAsudTM",
        "outputId": "2cfdd0f4-f6d6-433d-b9f4-f75bcc92f9bf"
      },
      "execution_count": null,
      "outputs": [
        {
          "output_type": "stream",
          "name": "stdout",
          "text": [
            "Noramlized list is :[0.0, 0.0, 0.0, 0.5, 0.5, 0.5, 0.5, 1.0]\n"
          ]
        }
      ]
    },
    {
      "cell_type": "code",
      "source": [
        "#standardization\n",
        "\n",
        "std_lst=[]\n",
        "\n",
        "for i in range(0,n):\n",
        "    std_lst.append('%.2f'%((lst[i]-mean)/std_dev))\n",
        "    \n",
        "print(\"Standardized values are : \"+str(std_lst))\n"
      ],
      "metadata": {
        "id": "RhG_MdX-ujhd",
        "outputId": "c0b9d6cf-80bf-4313-f386-0dffbc10ab03",
        "colab": {
          "base_uri": "https://localhost:8080/"
        }
      },
      "execution_count": null,
      "outputs": [
        {
          "output_type": "stream",
          "name": "stdout",
          "text": [
            "Standardized values are : ['-1.13', '-1.13', '-1.13', '0.38', '0.38', '0.38', '0.38', '1.89']\n"
          ]
        }
      ]
    }
  ]
}