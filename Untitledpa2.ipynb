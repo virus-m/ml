{
  "nbformat": 4,
  "nbformat_minor": 0,
  "metadata": {
    "colab": {
      "provenance": []
    },
    "kernelspec": {
      "name": "python3",
      "display_name": "Python 3"
    },
    "language_info": {
      "name": "python"
    }
  },
  "cells": [
    {
      "cell_type": "code",
      "execution_count": null,
      "metadata": {
        "id": "CAmGghILANaJ"
      },
      "outputs": [],
      "source": [
        "import numpy as np\n",
        "import pandas as pd\n",
        "from copy import deepcopy\n",
        "k=3\n",
        "import matplotlib.pyplot as plt"
      ]
    },
    {
      "cell_type": "code",
      "source": [
        "X = pd.read_csv('/content/kmeans.csv')\n",
        "print(X)"
      ],
      "metadata": {
        "id": "hGs0V75jAaB1",
        "colab": {
          "base_uri": "https://localhost:8080/"
        },
        "outputId": "5ca52862-5a58-468d-c777-2dd0ce0e8524"
      },
      "execution_count": null,
      "outputs": [
        {
          "output_type": "stream",
          "name": "stdout",
          "text": [
            "    X1   X2\n",
            "0  5.9  3.2\n",
            "1  4.6  2.9\n",
            "2  6.2  2.8\n",
            "3  4.7  3.2\n",
            "4  5.5  4.2\n",
            "5  5.0  3.0\n",
            "6  4.9  3.1\n",
            "7  6.7  3.1\n",
            "8  5.1  3.8\n",
            "9  6.0  3.0\n"
          ]
        }
      ]
    },
    {
      "cell_type": "code",
      "source": [
        "X = X[[\"X1\",\"X2\"]]\n",
        "#Visualise data points\n",
        "plt.scatter(X[\"X1\"],X[\"X2\"],c='black')\n",
        "plt.xlabel('AnnualIncome')\n",
        "plt.ylabel('Loan Amount (In Thousands)')\n",
        "plt.show()"
      ],
      "metadata": {
        "id": "mlDFvGKkA8my",
        "colab": {
          "base_uri": "https://localhost:8080/",
          "height": 279
        },
        "outputId": "00fa141b-36ca-4e26-d821-ea6c1904e9fd"
      },
      "execution_count": null,
      "outputs": [
        {
          "output_type": "display_data",
          "data": {
            "text/plain": [
              "<Figure size 432x288 with 1 Axes>"
            ],
            "image/png": "[encoded data removed]"
          },
          "metadata": {
            "needs_background": "light"
          }
        }
      ]
    },
    {
      "cell_type": "code",
      "source": [
        "x1 = X['X1'].values\n",
        "x2 = X['X2'].values"
      ],
      "metadata": {
        "id": "vH-p9QbfA_25"
      },
      "execution_count": null,
      "outputs": []
    },
    {
      "cell_type": "code",
      "source": [
        "x1"
      ],
      "metadata": {
        "id": "nnPaScH9BGle",
        "colab": {
          "base_uri": "https://localhost:8080/"
        },
        "outputId": "2b3334c8-de5d-44ad-c4e6-03f767e8d2b3"
      },
      "execution_count": null,
      "outputs": [
        {
          "output_type": "execute_result",
          "data": {
            "text/plain": [
              "array([5.9, 4.6, 6.2, 4.7, 5.5, 5. , 4.9, 6.7, 5.1, 6. ])"
            ]
          },
          "metadata": {},
          "execution_count": 8
        }
      ]
    },
    {
      "cell_type": "code",
      "source": [
        "x2"
      ],
      "metadata": {
        "id": "HmvVIZwiBIxe",
        "colab": {
          "base_uri": "https://localhost:8080/"
        },
        "outputId": "af502316-fa38-483d-cbf6-f696f8e7c6d8"
      },
      "execution_count": null,
      "outputs": [
        {
          "output_type": "execute_result",
          "data": {
            "text/plain": [
              "array([3.2, 2.9, 2.8, 3.2, 4.2, 3. , 3.1, 3.1, 3.8, 3. ])"
            ]
          },
          "metadata": {},
          "execution_count": 9
        }
      ]
    },
    {
      "cell_type": "code",
      "source": [
        "X = np.array(list(zip(x1,x2)))\n",
        "print(X)"
      ],
      "metadata": {
        "id": "w4vSDmwtBLWB",
        "colab": {
          "base_uri": "https://localhost:8080/"
        },
        "outputId": "82b0fd4c-b809-409f-b820-442f59740a76"
      },
      "execution_count": null,
      "outputs": [
        {
          "output_type": "stream",
          "name": "stdout",
          "text": [
            "[[5.9 3.2]\n",
            " [4.6 2.9]\n",
            " [6.2 2.8]\n",
            " [4.7 3.2]\n",
            " [5.5 4.2]\n",
            " [5.  3. ]\n",
            " [4.9 3.1]\n",
            " [6.7 3.1]\n",
            " [5.1 3.8]\n",
            " [6.  3. ]]\n"
          ]
        }
      ]
    },
    {
      "cell_type": "code",
      "source": [
        "C_x = [6.2,6.6,6.5]\n",
        "C_y = [3.2,3.7,3.0]"
      ],
      "metadata": {
        "id": "T6I7CZ1EBcUy"
      },
      "execution_count": null,
      "outputs": []
    },
    {
      "cell_type": "code",
      "source": [
        "Centroid = np.array(list(zip(C_x,C_y)))\n",
        "print(\"Initial Centroids\")\n",
        "print(Centroid.shape)"
      ],
      "metadata": {
        "id": "uYgcMhCuBnKb",
        "colab": {
          "base_uri": "https://localhost:8080/"
        },
        "outputId": "c5a5cf3b-4d91-4f00-9e29-73e5238facb8"
      },
      "execution_count": null,
      "outputs": [
        {
          "output_type": "stream",
          "name": "stdout",
          "text": [
            "Initial Centroids\n",
            "(3, 2)\n"
          ]
        }
      ]
    },
    {
      "cell_type": "code",
      "source": [
        "print(Centroid)"
      ],
      "metadata": {
        "id": "EhxEXzaiBxc4",
        "colab": {
          "base_uri": "https://localhost:8080/"
        },
        "outputId": "dd2b1e14-a4a0-4303-94f6-387d0c604be9"
      },
      "execution_count": null,
      "outputs": [
        {
          "output_type": "stream",
          "name": "stdout",
          "text": [
            "[[6.2 3.2]\n",
            " [6.6 3.7]\n",
            " [6.5 3. ]]\n"
          ]
        }
      ]
    },
    {
      "cell_type": "code",
      "source": [
        "type(Centroid)"
      ],
      "metadata": {
        "id": "eGy9P1nfB0kT",
        "colab": {
          "base_uri": "https://localhost:8080/"
        },
        "outputId": "189cb270-a0c5-48cb-e386-dbd2ac518817"
      },
      "execution_count": null,
      "outputs": [
        {
          "output_type": "execute_result",
          "data": {
            "text/plain": [
              "numpy.ndarray"
            ]
          },
          "metadata": {},
          "execution_count": 14
        }
      ]
    },
    {
      "cell_type": "code",
      "source": [
        "Centroid_old = np.zeros(Centroid.shape)\n",
        "print(Centroid_old)"
      ],
      "metadata": {
        "id": "VMLAeZM5B42Y",
        "colab": {
          "base_uri": "https://localhost:8080/"
        },
        "outputId": "5a8c88d2-1b07-4acd-e02a-2a25970a891f"
      },
      "execution_count": null,
      "outputs": [
        {
          "output_type": "stream",
          "name": "stdout",
          "text": [
            "[[0. 0.]\n",
            " [0. 0.]\n",
            " [0. 0.]]\n"
          ]
        }
      ]
    },
    {
      "cell_type": "code",
      "source": [
        "clusters = np.zeros(len(X))\n",
        "print(clusters)"
      ],
      "metadata": {
        "id": "JaIdTmCuCGC5",
        "colab": {
          "base_uri": "https://localhost:8080/"
        },
        "outputId": "2c65b38f-6c41-43ac-9fa3-4bb6f47b4d54"
      },
      "execution_count": null,
      "outputs": [
        {
          "output_type": "stream",
          "name": "stdout",
          "text": [
            "[0. 0. 0. 0. 0. 0. 0. 0. 0. 0.]\n"
          ]
        }
      ]
    },
    {
      "cell_type": "code",
      "source": [
        "def euclidean(a,b,ax=1):\n",
        "  return np.linalg.norm(a-b,axis=ax)"
      ],
      "metadata": {
        "id": "LCN2Xqh0CKSi"
      },
      "execution_count": null,
      "outputs": []
    },
    {
      "cell_type": "code",
      "source": [
        "error = euclidean(Centroid,Centroid_old,None)\n",
        "print(error)"
      ],
      "metadata": {
        "id": "K7Bju7kCCWD1",
        "colab": {
          "base_uri": "https://localhost:8080/"
        },
        "outputId": "711c012b-db36-4216-d3ee-631039326992"
      },
      "execution_count": null,
      "outputs": [
        {
          "output_type": "stream",
          "name": "stdout",
          "text": [
            "12.53714481052205\n"
          ]
        }
      ]
    },
    {
      "cell_type": "code",
      "source": [
        "iterr = 0"
      ],
      "metadata": {
        "id": "tZs9ua1lCaYv"
      },
      "execution_count": null,
      "outputs": []
    },
    {
      "cell_type": "code",
      "source": [
        "while error != 0:\n",
        "        # Assigning each value to its closest cluster\n",
        "        iterr = iterr + 1\n",
        "        for i in range(len(X)):\n",
        "            distances = euclidean(X[i], Centroid)\n",
        "            cluster = np.argmin(distances)\n",
        "            clusters[i] = cluster\n",
        "        Centroid_old = deepcopy(Centroid)\n",
        "        print(\"Old Centroid\")\n",
        "        print(Centroid_old)\n",
        "            \n",
        "        \n",
        "        # Finding the new centroids by taking the Mean\n",
        "        for p in range(k):\n",
        "            points = [X[j] for j in range(len(X)) if clusters[j] == p]\n",
        "            Centroid[p] = np.mean(points, axis=0)\n",
        "        print(\" New Centroids after \", iterr,\" Iteration \\n\", Centroid)\n",
        "        error = euclidean(Centroid, Centroid_old, None)\n",
        "        print(\"Error  ... \",error)\n",
        "        print(\"Data points belong to which cluster\")\n",
        "        print(clusters)\n",
        "        print(\"********************************************************\")"
      ],
      "metadata": {
        "id": "_aptnvCaCcyj",
        "colab": {
          "base_uri": "https://localhost:8080/"
        },
        "outputId": "a9f5736f-db47-4c4e-a4dd-d32fc22c32e0"
      },
      "execution_count": null,
      "outputs": [
        {
          "output_type": "stream",
          "name": "stdout",
          "text": [
            "Old Centroid\n",
            "[[6.2 3.2]\n",
            " [6.6 3.7]\n",
            " [6.5 3. ]]\n",
            " New Centroids after  1  Iteration \n",
            " [[5.17142857 3.17142857]\n",
            " [5.5        4.2       ]\n",
            " [6.45       2.95      ]]\n",
            "Error  ...  1.588639515498743\n",
            "Data points belong to which cluster\n",
            "[0. 0. 2. 0. 1. 0. 0. 2. 0. 0.]\n",
            "********************************************************\n",
            "Old Centroid\n",
            "[[5.17142857 3.17142857]\n",
            " [5.5        4.2       ]\n",
            " [6.45       2.95      ]]\n",
            " New Centroids after  2  Iteration \n",
            " [[4.8   3.05 ]\n",
            " [5.3   4.   ]\n",
            " [6.2   3.025]]\n",
            "Error  ...  0.548478879841925\n",
            "Data points belong to which cluster\n",
            "[2. 0. 2. 0. 1. 0. 0. 2. 1. 2.]\n",
            "********************************************************\n",
            "Old Centroid\n",
            "[[4.8   3.05 ]\n",
            " [5.3   4.   ]\n",
            " [6.2   3.025]]\n",
            " New Centroids after  3  Iteration \n",
            " [[4.8   3.05 ]\n",
            " [5.3   4.   ]\n",
            " [6.2   3.025]]\n",
            "Error  ...  0.0\n",
            "Data points belong to which cluster\n",
            "[2. 0. 2. 0. 1. 0. 0. 2. 1. 2.]\n",
            "********************************************************\n"
          ]
        }
      ]
    }
  ]
}